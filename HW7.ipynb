{
 "cells": [
  {
   "cell_type": "code",
   "execution_count": 6,
   "metadata": {},
   "outputs": [],
   "source": [
    "import numpy as np\n",
    "import pandas as pd\n",
    "from sklearn.model_selection import train_test_split\n",
    "from sklearn.tree import DecisionTreeClassifier\n",
    "from sklearn.metrics import accuracy_score\n",
    "import matplotlib.pyplot as plt\n",
    "from sklearn.model_selection import cross_val_score\n",
    "import time\n",
    "from sklearn.ensemble import RandomForestClassifier"
   ]
  },
  {
   "cell_type": "code",
   "execution_count": 17,
   "metadata": {},
   "outputs": [],
   "source": [
    "ccd=pd.read_csv('D:/UIUC/IE517 machine learning/week7/homework/ccdefault.csv',index_col='ID')\n",
    "ccd.head()\n",
    "#split the dataset\n",
    "X=ccd.iloc[:,0:23].values\n",
    "y=ccd.iloc[:,23].values\n",
    "feat_labels=ccd.columns[1:]"
   ]
  },
  {
   "cell_type": "code",
   "execution_count": 18,
   "metadata": {},
   "outputs": [],
   "source": [
    "X_train,X_test,y_train,y_test=train_test_split(X,y,test_size=0.1,random_state=42)\n",
    "dt=DecisionTreeClassifier(max_depth=5, random_state=1)"
   ]
  },
  {
   "cell_type": "code",
   "execution_count": 19,
   "metadata": {},
   "outputs": [],
   "source": [
    "#10 fold cross validation\n",
    "scores=cross_val_score(estimator=dt,X=X_train,y=y_train,cv=10,n_jobs=1)"
   ]
  },
  {
   "cell_type": "code",
   "execution_count": 24,
   "metadata": {},
   "outputs": [
    {
     "name": "stdout",
     "output_type": "stream",
     "text": [
      "when n=5 Training time usage is 2.809612 s\n",
      "when n= 5 accuracy is 0.790222\n",
      "when n=10 Training time usage is 5.492367 s\n",
      "when n= 10 accuracy is 0.806704\n",
      "when n=15 Training time usage is 8.208185 s\n",
      "when n= 15 accuracy is 0.809000\n",
      "when n=20 Training time usage is 11.054542 s\n",
      "when n= 20 accuracy is 0.812037\n",
      "when n=25 Training time usage is 13.626499 s\n",
      "when n= 25 accuracy is 0.812815\n",
      "when n=30 Training time usage is 16.272438 s\n",
      "when n= 30 accuracy is 0.813481\n",
      "when n=35 Training time usage is 19.014006 s\n",
      "when n= 35 accuracy is 0.814222\n",
      "when n=40 Training time usage is 21.760280 s\n",
      "when n= 40 accuracy is 0.815222\n",
      "when n=45 Training time usage is 25.344977 s\n",
      "when n= 45 accuracy is 0.815370\n",
      "when n=50 Training time usage is 27.349546 s\n",
      "when n= 50 accuracy is 0.816037\n",
      "when n=55 Training time usage is 30.044633 s\n",
      "when n= 55 accuracy is 0.815148\n",
      "when n=60 Training time usage is 34.099004 s\n",
      "when n= 60 accuracy is 0.815185\n",
      "when n=65 Training time usage is 36.355543 s\n",
      "when n= 65 accuracy is 0.816074\n",
      "when n=70 Training time usage is 40.025572 s\n",
      "when n= 70 accuracy is 0.815556\n",
      "when n=75 Training time usage is 41.278832 s\n",
      "when n= 75 accuracy is 0.815593\n",
      "when n=80 Training time usage is 43.924925 s\n",
      "when n= 80 accuracy is 0.815296\n",
      "when n=85 Training time usage is 49.741542 s\n",
      "when n= 85 accuracy is 0.815370\n",
      "when n=90 Training time usage is 49.659243 s\n",
      "when n= 90 accuracy is 0.815963\n",
      "when n=95 Training time usage is 52.711771 s\n",
      "when n= 95 accuracy is 0.815630\n",
      "when n=100 Training time usage is 55.540479 s\n",
      "when n= 100 accuracy is 0.815889\n"
     ]
    }
   ],
   "source": [
    "#Part1:random forest\n",
    "begin=5\n",
    "end=105\n",
    "irange=np.arange(begin,end,5)\n",
    "\n",
    "for i in irange:\n",
    "    start = time.perf_counter()\n",
    "    rf=RandomForestClassifier(n_estimators=i,random_state=1,n_jobs=1)\n",
    "    rf.fit(X_train,y_train)\n",
    "    y_pred = rf.predict(X_train)\n",
    "    scores=cross_val_score(estimator=rf,X=X_train,y=y_train,cv=10,n_jobs=1)\n",
    "    end = time.perf_counter()\n",
    "    \n",
    "    print (\"when n=%d Training time usage is %f s\"%(i,end - start))  \n",
    "    print(\"when n= %d accuracy is %f\"% (i,np.mean(scores)))\n"
   ]
  },
  {
   "cell_type": "code",
   "execution_count": 25,
   "metadata": {},
   "outputs": [
    {
     "name": "stdout",
     "output_type": "stream",
     "text": [
      " 1)PAY_2                          0.094731\n",
      " 2)PAY_0                          0.067229\n",
      " 3)SEX                            0.060723\n",
      " 4)BILL_AMT2                      0.059854\n",
      " 5)BILL_AMT3                      0.055363\n",
      " 6)PAY_AMT2                       0.051488\n",
      " 7)BILL_AMT4                      0.051279\n",
      " 8)PAY_AMT1                       0.050725\n",
      " 9)BILL_AMT6                      0.050485\n",
      "10)BILL_AMT5                      0.049840\n",
      "11)PAY_3                          0.047779\n",
      "12)PAY_AMT3                       0.047746\n",
      "13)PAY_AMT4                       0.046279\n",
      "14)DEFAULT                        0.045831\n",
      "15)PAY_AMT6                       0.042973\n",
      "16)PAY_AMT5                       0.042738\n",
      "17)PAY_4                          0.028077\n",
      "18)PAY_5                          0.024465\n",
      "19)MARRIAGE                       0.019976\n",
      "20)PAY_6                          0.018436\n",
      "21)BILL_AMT1                      0.017467\n",
      "22)AGE                            0.014277\n",
      "23)EDUCATION                      0.012238\n"
     ]
    },
    {
     "data": {
      "image/png": "[encoded data removed]",
      "text/plain": [
       "<Figure size 432x288 with 1 Axes>"
      ]
     },
     "metadata": {
      "needs_background": "light"
     },
     "output_type": "display_data"
    }
   ],
   "source": [
    "#Part2:random forest feature importance\n",
    "rf=RandomForestClassifier(n_estimators=65,random_state=1,n_jobs=1)\n",
    "rf.fit(X_train,y_train)\n",
    "importances=rf.feature_importances_\n",
    "indices=np.argsort(importances)[::-1]\n",
    "for f in range(X_train.shape[1]):\n",
    "    print(\"%2d)%-*s %f\"%(f+1,30,feat_labels[indices[f]],importances[indices[f]]))\n",
    "plt.title('Feature Importance')\n",
    "plt.bar(range(X_train.shape[1]),importances[indices],align='center')\n",
    "plt.xticks(range(X_train.shape[1]),feat_labels,rotation=90)\n",
    "plt.xlim([-1,X_train.shape[1]])\n",
    "plt.tight_layout()\n",
    "plt.show()"
   ]
  },
  {
   "cell_type": "code",
   "execution_count": 26,
   "metadata": {},
   "outputs": [
    {
     "name": "stdout",
     "output_type": "stream",
     "text": [
      "My name is Chenxiang zhang\n",
      "My NetID is: cz52\n",
      "I hereby certify that I have read the University policy on Academic Integrity and that I am not in violation.\n"
     ]
    }
   ],
   "source": [
    "print(\"My name is Chenxiang zhang\")\n",
    "print(\"My NetID is: cz52\")\n",
    "print(\"I hereby certify that I have read the University policy on Academic Integrity and that I am not in violation.\")"
   ]
  }
 ],
 "metadata": {
  "kernelspec": {
   "display_name": "Python 3",
   "language": "python",
   "name": "python3"
  },
  "language_info": {
   "codemirror_mode": {
    "name": "ipython",
    "version": 3
   },
   "file_extension": ".py",
   "mimetype": "text/x-python",
   "name": "python",
   "nbconvert_exporter": "python",
   "pygments_lexer": "ipython3",
   "version": "3.8.3"
  }
 },
 "nbformat": 4,
 "nbformat_minor": 4
}
